{
  "cells": [
    {
      "cell_type": "markdown",
      "metadata": {
        "id": "JvS7F3jsaUmK"
      },
      "source": [
        "```text\n",
        "=================================================\n",
        "\n",
        "Data Inference Test\n",
        "\n",
        "=================================================\n",
        "```"
      ]
    },
    {
      "cell_type": "markdown",
      "metadata": {
        "id": "woH-Wl5La6Q7"
      },
      "source": [
        "This program is conducted to test the prediction of the best saved ANN model against inference data."
      ]
    },
    {
      "cell_type": "markdown",
      "metadata": {
        "id": "1vNYaNhIX-6F"
      },
      "source": [
        "# Import Libraries"
      ]
    },
    {
      "cell_type": "code",
      "execution_count": 1,
      "metadata": {
        "id": "a5lu3oaiVpX7"
      },
      "outputs": [],
      "source": [
        "import tensorflow as tf\n",
        "from tensorflow.keras.models import load_model\n",
        "from tensorflow.keras.preprocessing.image import img_to_array, load_img\n",
        "import numpy as np\n",
        "from PIL import Image"
      ]
    },
    {
      "cell_type": "markdown",
      "metadata": {
        "id": "LLW44cTBYBdH"
      },
      "source": [
        "# Load Model"
      ]
    },
    {
      "cell_type": "code",
      "execution_count": 3,
      "metadata": {
        "colab": {
          "base_uri": "https://localhost:8080/"
        },
        "id": "tpG32xtBZkec",
        "outputId": "4bd1a12d-64de-49d8-d8e7-16eb601d2431"
      },
      "outputs": [
        {
          "name": "stdout",
          "output_type": "stream",
          "text": [
            "Mounted at /content/drive\n"
          ]
        }
      ],
      "source": [
        "from google.colab import drive\n",
        "drive.mount('/content/drive')"
      ]
    },
    {
      "cell_type": "code",
      "execution_count": 4,
      "metadata": {
        "id": "QCk22KRdVrv_"
      },
      "outputs": [],
      "source": [
        "model_path = '/content/drive/MyDrive/best_ann_model.keras'\n",
        "model = load_model(model_path)"
      ]
    },
    {
      "cell_type": "markdown",
      "metadata": {
        "id": "ua8iC1oGYEDk"
      },
      "source": [
        "# Load Picture"
      ]
    },
    {
      "cell_type": "code",
      "execution_count": 5,
      "metadata": {
        "id": "4sPEN-2wVsa1"
      },
      "outputs": [],
      "source": [
        "# Please import Indian face picture (with minimum file size is 3MB)\n",
        "image_path = '/content/drive/MyDrive/srk.jpg'"
      ]
    },
    {
      "cell_type": "markdown",
      "metadata": {
        "id": "FcuKGrWDYI0v"
      },
      "source": [
        "# Image Preprocessing"
      ]
    },
    {
      "cell_type": "code",
      "execution_count": 6,
      "metadata": {
        "id": "yq9hQZmKVvHI"
      },
      "outputs": [],
      "source": [
        "def preprocess_image(image_path, target_size=(400, 400)):\n",
        "    image = Image.open(image_path).convert('YCbCr')\n",
        "    image = image.resize(target_size)\n",
        "    image = img_to_array(image)\n",
        "    image = np.expand_dims(image, axis=0)\n",
        "    image = image / 255.0\n",
        "    return image"
      ]
    },
    {
      "cell_type": "markdown",
      "metadata": {
        "id": "SsQn9TuoYOE_"
      },
      "source": [
        "# Prediction"
      ]
    },
    {
      "cell_type": "code",
      "execution_count": 7,
      "metadata": {
        "id": "JftnApEdVZse"
      },
      "outputs": [],
      "source": [
        "def predict_image_class(image_path):\n",
        "    preprocessed_image = preprocess_image(image_path)\n",
        "    predictions = model.predict(preprocessed_image)\n",
        "    predicted_class = np.argmax(predictions, axis=1)\n",
        "    return predicted_class"
      ]
    },
    {
      "cell_type": "markdown",
      "metadata": {
        "id": "B6bNmXpJaAvV"
      },
      "source": [
        "Classification:\n",
        "* `Middle`: 0\n",
        "* `Old`: 1\n",
        "* `Young`: 2"
      ]
    },
    {
      "cell_type": "code",
      "execution_count": 8,
      "metadata": {
        "colab": {
          "base_uri": "https://localhost:8080/"
        },
        "id": "In1w8Tj0Vz0x",
        "outputId": "fe6fc77e-b567-4e2e-85c4-651ad29b4658"
      },
      "outputs": [
        {
          "name": "stdout",
          "output_type": "stream",
          "text": [
            "1/1 [==============================] - 1s 532ms/step\n",
            "The predicted class is: [0]\n"
          ]
        }
      ],
      "source": [
        "# Menampilkan hasil prediksi.\n",
        "predicted_class = predict_image_class(image_path)\n",
        "print(f'The predicted class is: {predicted_class}')"
      ]
    },
    {
      "cell_type": "markdown",
      "metadata": {
        "id": "ifqWqVaQZ1Cl"
      },
      "source": [
        "Data Inference (image of Indian artist Shah Rukh Khan) has been successfully predicted into class 0 or `Middle` group. According to the classification used in the previous training data, this means that Shah Rukh Khan qualifies to proceed with registration on the RupeeLend platform prototype."
      ]
    }
  ],
  "metadata": {
    "colab": {
      "provenance": []
    },
    "kernelspec": {
      "display_name": "Python 3",
      "name": "python3"
    },
    "language_info": {
      "name": "python"
    }
  },
  "nbformat": 4,
  "nbformat_minor": 0
}
